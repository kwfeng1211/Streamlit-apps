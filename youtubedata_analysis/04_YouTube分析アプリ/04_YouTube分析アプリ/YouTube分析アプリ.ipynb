{
 "cells": [
  {
   "cell_type": "code",
   "execution_count": 1,
   "id": "angry-indiana",
   "metadata": {
    "collapsed": true,
    "jupyter": {
     "outputs_hidden": true
    }
   },
   "outputs": [
    {
     "name": "stdout",
     "output_type": "stream",
     "text": [
      "Requirement already satisfied: google-api-python-client in /usr/local/lib/python3.9/site-packages (2.0.2)\n",
      "Requirement already satisfied: google-auth<2dev,>=1.16.0 in /usr/local/lib/python3.9/site-packages (from google-api-python-client) (1.27.0)\n",
      "Requirement already satisfied: six<2dev,>=1.13.0 in /usr/local/lib/python3.9/site-packages (from google-api-python-client) (1.15.0)\n",
      "Requirement already satisfied: httplib2<1dev,>=0.15.0 in /usr/local/lib/python3.9/site-packages (from google-api-python-client) (0.19.0)\n",
      "Requirement already satisfied: google-api-core<2dev,>=1.21.0 in /usr/local/lib/python3.9/site-packages (from google-api-python-client) (1.26.0)\n",
      "Requirement already satisfied: uritemplate<4dev,>=3.0.0 in /usr/local/lib/python3.9/site-packages (from google-api-python-client) (3.0.1)\n",
      "Requirement already satisfied: google-auth-httplib2>=0.0.3 in /usr/local/lib/python3.9/site-packages (from google-api-python-client) (0.1.0)\n",
      "Requirement already satisfied: setuptools>=40.3.0 in /usr/local/lib/python3.9/site-packages (from google-api-core<2dev,>=1.21.0->google-api-python-client) (54.1.2)\n",
      "Requirement already satisfied: googleapis-common-protos<2.0dev,>=1.6.0 in /usr/local/lib/python3.9/site-packages (from google-api-core<2dev,>=1.21.0->google-api-python-client) (1.53.0)\n",
      "Requirement already satisfied: protobuf>=3.12.0 in /usr/local/lib/python3.9/site-packages (from google-api-core<2dev,>=1.21.0->google-api-python-client) (3.15.3)\n",
      "Requirement already satisfied: requests<3.0.0dev,>=2.18.0 in /usr/local/lib/python3.9/site-packages (from google-api-core<2dev,>=1.21.0->google-api-python-client) (2.25.1)\n",
      "Requirement already satisfied: pytz in /usr/local/lib/python3.9/site-packages (from google-api-core<2dev,>=1.21.0->google-api-python-client) (2021.1)\n",
      "Requirement already satisfied: packaging>=14.3 in /usr/local/lib/python3.9/site-packages (from google-api-core<2dev,>=1.21.0->google-api-python-client) (20.9)\n",
      "Requirement already satisfied: cachetools<5.0,>=2.0.0 in /usr/local/lib/python3.9/site-packages (from google-auth<2dev,>=1.16.0->google-api-python-client) (4.2.1)\n",
      "Requirement already satisfied: pyasn1-modules>=0.2.1 in /usr/local/lib/python3.9/site-packages (from google-auth<2dev,>=1.16.0->google-api-python-client) (0.2.8)\n",
      "Requirement already satisfied: rsa<5,>=3.1.4 in /usr/local/lib/python3.9/site-packages (from google-auth<2dev,>=1.16.0->google-api-python-client) (4.7.2)\n",
      "Requirement already satisfied: pyparsing<3,>=2.4.2 in /usr/local/lib/python3.9/site-packages (from httplib2<1dev,>=0.15.0->google-api-python-client) (2.4.7)\n",
      "Requirement already satisfied: pyasn1<0.5.0,>=0.4.6 in /usr/local/lib/python3.9/site-packages (from pyasn1-modules>=0.2.1->google-auth<2dev,>=1.16.0->google-api-python-client) (0.4.8)\n",
      "Requirement already satisfied: idna<3,>=2.5 in /usr/local/lib/python3.9/site-packages (from requests<3.0.0dev,>=2.18.0->google-api-core<2dev,>=1.21.0->google-api-python-client) (2.10)\n",
      "Requirement already satisfied: certifi>=2017.4.17 in /usr/local/lib/python3.9/site-packages (from requests<3.0.0dev,>=2.18.0->google-api-core<2dev,>=1.21.0->google-api-python-client) (2020.12.5)\n",
      "Requirement already satisfied: urllib3<1.27,>=1.21.1 in /usr/local/lib/python3.9/site-packages (from requests<3.0.0dev,>=2.18.0->google-api-core<2dev,>=1.21.0->google-api-python-client) (1.26.3)\n",
      "Requirement already satisfied: chardet<5,>=3.0.2 in /usr/local/lib/python3.9/site-packages (from requests<3.0.0dev,>=2.18.0->google-api-core<2dev,>=1.21.0->google-api-python-client) (4.0.0)\n"
     ]
    }
   ],
   "source": [
    "!pip3 install google-api-python-client"
   ]
  },
  {
   "cell_type": "code",
   "execution_count": 2,
   "id": "patent-child",
   "metadata": {},
   "outputs": [],
   "source": [
    "from apiclient.discovery import build\n",
    "# from apiclient.errors import HttpError\n",
    "# from oauth2client.tools import argparser"
   ]
  },
  {
   "cell_type": "code",
   "execution_count": 3,
   "id": "otherwise-physiology",
   "metadata": {},
   "outputs": [],
   "source": [
    "import json\n",
    "with open('secret.json') as f:\n",
    "    secret = json.load(f)"
   ]
  },
  {
   "cell_type": "code",
   "execution_count": 13,
   "id": "rotary-simple",
   "metadata": {},
   "outputs": [],
   "source": [
    "DEVELOPER_KEY = secret['KEY']\n",
    "YOUTUBE_API_SERVICE_NAME = \"youtube\"\n",
    "YOUTUBE_API_VERSION = \"v3\"\n",
    "\n",
    "# def youtube_search(options):\n",
    "youtube = build(YOUTUBE_API_SERVICE_NAME, YOUTUBE_API_VERSION,\n",
    "                developerKey=DEVELOPER_KEY)\n",
    "\n",
    "q = 'Python 自動化'\n",
    "max_results = 30\n",
    "\n",
    "response = youtube.search().list(\n",
    "    q=q,\n",
    "    part='id,snippet',\n",
    "    order='viewCount',\n",
    "    type='video',\n",
    "    maxResults=max_results\n",
    ").execute()"
   ]
  },
  {
   "cell_type": "code",
   "execution_count": 15,
   "id": "directed-liberty",
   "metadata": {
    "collapsed": true,
    "jupyter": {
     "outputs_hidden": true
    }
   },
   "outputs": [
    {
     "data": {
      "text/plain": [
       "{'kind': 'youtube#searchResult',\n",
       " 'etag': 'yPLe0hCKJFyP4cO3flm11RXqm-w',\n",
       " 'id': {'kind': 'youtube#video', 'videoId': '-5v7CuXm7Ns'},\n",
       " 'snippet': {'publishedAt': '2020-05-20T11:41:43Z',\n",
       "  'channelId': 'UCGlgXjYVoHLD86TQQ799WIw',\n",
       "  'title': 'Pythonで面倒なExcelの仕事を自動化しよう( 第一弾 )｜一瞬で仕事がおわるプログラミング活用術',\n",
       "  'description': 'この動画では、PythonによるExcel作業の自動化ついては説明をしました。細かいコードの説明はPandas超入門コースでする予定です。この動画では、どんなことができる ...',\n",
       "  'thumbnails': {'default': {'url': 'https://i.ytimg.com/vi/-5v7CuXm7Ns/default.jpg',\n",
       "    'width': 120,\n",
       "    'height': 90},\n",
       "   'medium': {'url': 'https://i.ytimg.com/vi/-5v7CuXm7Ns/mqdefault.jpg',\n",
       "    'width': 320,\n",
       "    'height': 180},\n",
       "   'high': {'url': 'https://i.ytimg.com/vi/-5v7CuXm7Ns/hqdefault.jpg',\n",
       "    'width': 480,\n",
       "    'height': 360}},\n",
       "  'channelTitle': 'キノコード / プログラミング学習チャンネル',\n",
       "  'liveBroadcastContent': 'none',\n",
       "  'publishTime': '2020-05-20T11:41:43Z'}}"
      ]
     },
     "execution_count": 15,
     "metadata": {},
     "output_type": "execute_result"
    }
   ],
   "source": [
    "items = response['items']\n",
    "item = items[0]\n",
    "item"
   ]
  },
  {
   "cell_type": "code",
   "execution_count": 17,
   "id": "promotional-memphis",
   "metadata": {},
   "outputs": [],
   "source": [
    "video_id = item['id']['videoId']"
   ]
  },
  {
   "cell_type": "code",
   "execution_count": 19,
   "id": "breathing-sauce",
   "metadata": {},
   "outputs": [],
   "source": [
    "channel_id = item['snippet']['channelId']"
   ]
  },
  {
   "cell_type": "code",
   "execution_count": 23,
   "id": "supposed-approval",
   "metadata": {},
   "outputs": [],
   "source": [
    "import pandas as pd"
   ]
  },
  {
   "cell_type": "code",
   "execution_count": 24,
   "id": "instructional-transcript",
   "metadata": {},
   "outputs": [],
   "source": [
    "items_id = []\n",
    "items = response['items']\n",
    "for item in items:\n",
    "    item_id = {}\n",
    "    item_id['video_id'] = item['id']['videoId']\n",
    "    item_id['channel_id'] = item['snippet']['channelId']\n",
    "    items_id.append(item_id)\n",
    "\n",
    "df_video = pd.DataFrame(items_id)"
   ]
  },
  {
   "cell_type": "code",
   "execution_count": 26,
   "id": "continental-warren",
   "metadata": {},
   "outputs": [
    {
     "data": {
      "text/html": [
       "<div>\n",
       "<style scoped>\n",
       "    .dataframe tbody tr th:only-of-type {\n",
       "        vertical-align: middle;\n",
       "    }\n",
       "\n",
       "    .dataframe tbody tr th {\n",
       "        vertical-align: top;\n",
       "    }\n",
       "\n",
       "    .dataframe thead th {\n",
       "        text-align: right;\n",
       "    }\n",
       "</style>\n",
       "<table border=\"1\" class=\"dataframe\">\n",
       "  <thead>\n",
       "    <tr style=\"text-align: right;\">\n",
       "      <th></th>\n",
       "      <th>video_id</th>\n",
       "      <th>channel_id</th>\n",
       "    </tr>\n",
       "  </thead>\n",
       "  <tbody>\n",
       "    <tr>\n",
       "      <th>0</th>\n",
       "      <td>-5v7CuXm7Ns</td>\n",
       "      <td>UCGlgXjYVoHLD86TQQ799WIw</td>\n",
       "    </tr>\n",
       "    <tr>\n",
       "      <th>1</th>\n",
       "      <td>LgZ8Li97yoM</td>\n",
       "      <td>UCGlgXjYVoHLD86TQQ799WIw</td>\n",
       "    </tr>\n",
       "    <tr>\n",
       "      <th>2</th>\n",
       "      <td>JNKZYhyr9Yw</td>\n",
       "      <td>UC6M7Qk2It63qD0jhiKgLWZA</td>\n",
       "    </tr>\n",
       "  </tbody>\n",
       "</table>\n",
       "</div>"
      ],
      "text/plain": [
       "      video_id                channel_id\n",
       "0  -5v7CuXm7Ns  UCGlgXjYVoHLD86TQQ799WIw\n",
       "1  LgZ8Li97yoM  UCGlgXjYVoHLD86TQQ799WIw\n",
       "2  JNKZYhyr9Yw  UC6M7Qk2It63qD0jhiKgLWZA"
      ]
     },
     "execution_count": 26,
     "metadata": {},
     "output_type": "execute_result"
    }
   ],
   "source": [
    "df_video[:3]"
   ]
  },
  {
   "cell_type": "code",
   "execution_count": 30,
   "id": "consistent-group",
   "metadata": {},
   "outputs": [],
   "source": [
    "def video_search(youtube, q='自動化', max_results=50):\n",
    "\n",
    "    response = youtube.search().list(\n",
    "        q=q,\n",
    "        part='id,snippet',\n",
    "        order='viewCount',\n",
    "        type='video',\n",
    "        maxResults=max_results\n",
    "    ).execute()\n",
    "\n",
    "    items_id = []\n",
    "    items = response['items']\n",
    "    for item in items:\n",
    "        item_id = {}\n",
    "        item_id['video_id'] = item['id']['videoId']\n",
    "        item_id['channel_id'] = item['snippet']['channelId']\n",
    "        items_id.append(item_id)\n",
    "\n",
    "    df_video = pd.DataFrame(items_id)\n",
    "    \n",
    "    return df_video"
   ]
  },
  {
   "cell_type": "code",
   "execution_count": 31,
   "id": "conceptual-booking",
   "metadata": {},
   "outputs": [],
   "source": [
    "DEVELOPER_KEY = secret['KEY']\n",
    "YOUTUBE_API_SERVICE_NAME = \"youtube\"\n",
    "YOUTUBE_API_VERSION = \"v3\"\n",
    "\n",
    "youtube = build(YOUTUBE_API_SERVICE_NAME, YOUTUBE_API_VERSION,\n",
    "                developerKey=DEVELOPER_KEY)\n",
    "\n",
    "df_video = video_search(youtube, q='Python 自動化', max_results=50)"
   ]
  },
  {
   "cell_type": "code",
   "execution_count": 32,
   "id": "touched-solution",
   "metadata": {},
   "outputs": [
    {
     "data": {
      "text/html": [
       "<div>\n",
       "<style scoped>\n",
       "    .dataframe tbody tr th:only-of-type {\n",
       "        vertical-align: middle;\n",
       "    }\n",
       "\n",
       "    .dataframe tbody tr th {\n",
       "        vertical-align: top;\n",
       "    }\n",
       "\n",
       "    .dataframe thead th {\n",
       "        text-align: right;\n",
       "    }\n",
       "</style>\n",
       "<table border=\"1\" class=\"dataframe\">\n",
       "  <thead>\n",
       "    <tr style=\"text-align: right;\">\n",
       "      <th></th>\n",
       "      <th>video_id</th>\n",
       "      <th>channel_id</th>\n",
       "    </tr>\n",
       "  </thead>\n",
       "  <tbody>\n",
       "    <tr>\n",
       "      <th>0</th>\n",
       "      <td>-5v7CuXm7Ns</td>\n",
       "      <td>UCGlgXjYVoHLD86TQQ799WIw</td>\n",
       "    </tr>\n",
       "    <tr>\n",
       "      <th>1</th>\n",
       "      <td>mIYJrEScAGI</td>\n",
       "      <td>UCMMjv61LfBy5J3AT8Ua0NGQ</td>\n",
       "    </tr>\n",
       "    <tr>\n",
       "      <th>2</th>\n",
       "      <td>LgZ8Li97yoM</td>\n",
       "      <td>UCGlgXjYVoHLD86TQQ799WIw</td>\n",
       "    </tr>\n",
       "  </tbody>\n",
       "</table>\n",
       "</div>"
      ],
      "text/plain": [
       "      video_id                channel_id\n",
       "0  -5v7CuXm7Ns  UCGlgXjYVoHLD86TQQ799WIw\n",
       "1  mIYJrEScAGI  UCMMjv61LfBy5J3AT8Ua0NGQ\n",
       "2  LgZ8Li97yoM  UCGlgXjYVoHLD86TQQ799WIw"
      ]
     },
     "execution_count": 32,
     "metadata": {},
     "output_type": "execute_result"
    }
   ],
   "source": [
    "df_video[:3]"
   ]
  },
  {
   "cell_type": "code",
   "execution_count": 36,
   "id": "bizarre-share",
   "metadata": {},
   "outputs": [
    {
     "data": {
      "text/plain": [
       "['UCGlgXjYVoHLD86TQQ799WIw',\n",
       " 'UCMMjv61LfBy5J3AT8Ua0NGQ',\n",
       " 'UC6M7Qk2It63qD0jhiKgLWZA']"
      ]
     },
     "execution_count": 36,
     "metadata": {},
     "output_type": "execute_result"
    }
   ],
   "source": [
    "channel_ids = df_video['channel_id'].unique().tolist()\n",
    "channel_ids[:3]"
   ]
  },
  {
   "cell_type": "code",
   "execution_count": 41,
   "id": "smart-launch",
   "metadata": {},
   "outputs": [],
   "source": [
    "subscriber_list = youtube.channels().list(\n",
    "    id=','.join(channel_ids),\n",
    "    part='statistics',\n",
    "    fields='items(id,statistics(subscriberCount))'\n",
    ").execute()"
   ]
  },
  {
   "cell_type": "code",
   "execution_count": 45,
   "id": "mexican-football",
   "metadata": {},
   "outputs": [
    {
     "data": {
      "text/plain": [
       "[{'id': 'UCGFxqqRaM97VjM5ToRfkoFg', 'statistics': {'subscriberCount': '1600'}},\n",
       " {'id': 'UC1uj19dZQXa17-SqNGpVNLw',\n",
       "  'statistics': {'subscriberCount': '14900'}},\n",
       " {'id': 'UCYPkI8lgfiNXmGxCglZhOwA', 'statistics': {'subscriberCount': '500'}},\n",
       " {'id': 'UCEj6hquMBUiQGunwIO1zVZA',\n",
       "  'statistics': {'subscriberCount': '21800'}},\n",
       " {'id': 'UCaeuEZcPrQMdMvI6VMFHc5Q', 'statistics': {'subscriberCount': '4560'}}]"
      ]
     },
     "execution_count": 45,
     "metadata": {},
     "output_type": "execute_result"
    }
   ],
   "source": [
    "subscriber_list['items'][:5]"
   ]
  },
  {
   "cell_type": "code",
   "execution_count": 91,
   "id": "viral-quantity",
   "metadata": {},
   "outputs": [],
   "source": [
    "subscribers = []\n",
    "for item in subscriber_list['items']:\n",
    "    subscriber = {}\n",
    "    subscriber['channel_id'] = item['id']\n",
    "    subscriber['subscriber_count'] = int(item['statistics']['subscriberCount'])\n",
    "    subscribers.append(subscriber)\n",
    "\n",
    "df_subscribers = pd.DataFrame(subscribers)"
   ]
  },
  {
   "cell_type": "code",
   "execution_count": 92,
   "id": "forced-input",
   "metadata": {},
   "outputs": [
    {
     "data": {
      "text/html": [
       "<div>\n",
       "<style scoped>\n",
       "    .dataframe tbody tr th:only-of-type {\n",
       "        vertical-align: middle;\n",
       "    }\n",
       "\n",
       "    .dataframe tbody tr th {\n",
       "        vertical-align: top;\n",
       "    }\n",
       "\n",
       "    .dataframe thead th {\n",
       "        text-align: right;\n",
       "    }\n",
       "</style>\n",
       "<table border=\"1\" class=\"dataframe\">\n",
       "  <thead>\n",
       "    <tr style=\"text-align: right;\">\n",
       "      <th></th>\n",
       "      <th>channel_id</th>\n",
       "      <th>subscriber_count</th>\n",
       "    </tr>\n",
       "  </thead>\n",
       "  <tbody>\n",
       "    <tr>\n",
       "      <th>0</th>\n",
       "      <td>UCGFxqqRaM97VjM5ToRfkoFg</td>\n",
       "      <td>1600</td>\n",
       "    </tr>\n",
       "    <tr>\n",
       "      <th>1</th>\n",
       "      <td>UC1uj19dZQXa17-SqNGpVNLw</td>\n",
       "      <td>14900</td>\n",
       "    </tr>\n",
       "    <tr>\n",
       "      <th>2</th>\n",
       "      <td>UCYPkI8lgfiNXmGxCglZhOwA</td>\n",
       "      <td>500</td>\n",
       "    </tr>\n",
       "  </tbody>\n",
       "</table>\n",
       "</div>"
      ],
      "text/plain": [
       "                 channel_id  subscriber_count\n",
       "0  UCGFxqqRaM97VjM5ToRfkoFg              1600\n",
       "1  UC1uj19dZQXa17-SqNGpVNLw             14900\n",
       "2  UCYPkI8lgfiNXmGxCglZhOwA               500"
      ]
     },
     "execution_count": 92,
     "metadata": {},
     "output_type": "execute_result"
    }
   ],
   "source": [
    "df_subscribers[:3]"
   ]
  },
  {
   "cell_type": "code",
   "execution_count": 58,
   "id": "earned-gather",
   "metadata": {},
   "outputs": [
    {
     "data": {
      "text/html": [
       "<div>\n",
       "<style scoped>\n",
       "    .dataframe tbody tr th:only-of-type {\n",
       "        vertical-align: middle;\n",
       "    }\n",
       "\n",
       "    .dataframe tbody tr th {\n",
       "        vertical-align: top;\n",
       "    }\n",
       "\n",
       "    .dataframe thead th {\n",
       "        text-align: right;\n",
       "    }\n",
       "</style>\n",
       "<table border=\"1\" class=\"dataframe\">\n",
       "  <thead>\n",
       "    <tr style=\"text-align: right;\">\n",
       "      <th></th>\n",
       "      <th>video_id</th>\n",
       "      <th>channel_id</th>\n",
       "      <th>subscriber_count</th>\n",
       "    </tr>\n",
       "  </thead>\n",
       "  <tbody>\n",
       "    <tr>\n",
       "      <th>0</th>\n",
       "      <td>-5v7CuXm7Ns</td>\n",
       "      <td>UCGlgXjYVoHLD86TQQ799WIw</td>\n",
       "      <td>113000</td>\n",
       "    </tr>\n",
       "    <tr>\n",
       "      <th>1</th>\n",
       "      <td>LgZ8Li97yoM</td>\n",
       "      <td>UCGlgXjYVoHLD86TQQ799WIw</td>\n",
       "      <td>113000</td>\n",
       "    </tr>\n",
       "    <tr>\n",
       "      <th>2</th>\n",
       "      <td>HuJV9Vq6snQ</td>\n",
       "      <td>UCGlgXjYVoHLD86TQQ799WIw</td>\n",
       "      <td>113000</td>\n",
       "    </tr>\n",
       "  </tbody>\n",
       "</table>\n",
       "</div>"
      ],
      "text/plain": [
       "      video_id                channel_id  subscriber_count\n",
       "0  -5v7CuXm7Ns  UCGlgXjYVoHLD86TQQ799WIw            113000\n",
       "1  LgZ8Li97yoM  UCGlgXjYVoHLD86TQQ799WIw            113000\n",
       "2  HuJV9Vq6snQ  UCGlgXjYVoHLD86TQQ799WIw            113000"
      ]
     },
     "execution_count": 58,
     "metadata": {},
     "output_type": "execute_result"
    }
   ],
   "source": [
    "df = pd.merge(left=df_video, right=df_subscribers, on='channel_id')\n",
    "df.head(3)"
   ]
  },
  {
   "cell_type": "code",
   "execution_count": 67,
   "id": "fiscal-anxiety",
   "metadata": {},
   "outputs": [
    {
     "data": {
      "text/html": [
       "<div>\n",
       "<style scoped>\n",
       "    .dataframe tbody tr th:only-of-type {\n",
       "        vertical-align: middle;\n",
       "    }\n",
       "\n",
       "    .dataframe tbody tr th {\n",
       "        vertical-align: top;\n",
       "    }\n",
       "\n",
       "    .dataframe thead th {\n",
       "        text-align: right;\n",
       "    }\n",
       "</style>\n",
       "<table border=\"1\" class=\"dataframe\">\n",
       "  <thead>\n",
       "    <tr style=\"text-align: right;\">\n",
       "      <th></th>\n",
       "      <th>video_id</th>\n",
       "      <th>channel_id</th>\n",
       "      <th>subscriber_count</th>\n",
       "    </tr>\n",
       "  </thead>\n",
       "  <tbody>\n",
       "    <tr>\n",
       "      <th>18</th>\n",
       "      <td>2MQ3l5rQNKk</td>\n",
       "      <td>UCaeuEZcPrQMdMvI6VMFHc5Q</td>\n",
       "      <td>4560</td>\n",
       "    </tr>\n",
       "    <tr>\n",
       "      <th>19</th>\n",
       "      <td>0zelr_2KkrU</td>\n",
       "      <td>UCaeuEZcPrQMdMvI6VMFHc5Q</td>\n",
       "      <td>4560</td>\n",
       "    </tr>\n",
       "    <tr>\n",
       "      <th>32</th>\n",
       "      <td>nCfAtMooIQQ</td>\n",
       "      <td>UCNste53_VRtP6MGUfitOYQA</td>\n",
       "      <td>4210</td>\n",
       "    </tr>\n",
       "  </tbody>\n",
       "</table>\n",
       "</div>"
      ],
      "text/plain": [
       "       video_id                channel_id  subscriber_count\n",
       "18  2MQ3l5rQNKk  UCaeuEZcPrQMdMvI6VMFHc5Q              4560\n",
       "19  0zelr_2KkrU  UCaeuEZcPrQMdMvI6VMFHc5Q              4560\n",
       "32  nCfAtMooIQQ  UCNste53_VRtP6MGUfitOYQA              4210"
      ]
     },
     "execution_count": 67,
     "metadata": {},
     "output_type": "execute_result"
    }
   ],
   "source": [
    "df_extracted = df[df['subscriber_count'] < 10000]\n",
    "df_extracted[:3]"
   ]
  },
  {
   "cell_type": "code",
   "execution_count": 66,
   "id": "significant-remove",
   "metadata": {},
   "outputs": [],
   "source": [
    "video_ids = df_extracted['video_id'].tolist()"
   ]
  },
  {
   "cell_type": "code",
   "execution_count": 69,
   "id": "collected-clone",
   "metadata": {},
   "outputs": [],
   "source": [
    "videos_list = youtube.videos().list(\n",
    "    id=','.join(video_ids),\n",
    "    part='snippet,statistics',\n",
    "    fields='items(id,snippet(title),statistics(viewCount))'\n",
    ").execute()"
   ]
  },
  {
   "cell_type": "code",
   "execution_count": 72,
   "id": "hazardous-rebate",
   "metadata": {},
   "outputs": [
    {
     "data": {
      "text/plain": [
       "[{'id': '2MQ3l5rQNKk',\n",
       "  'snippet': {'title': '【Python入門】Pythonでできること、学習方法についてまとめてみた'},\n",
       "  'statistics': {'viewCount': '90130'}},\n",
       " {'id': '0zelr_2KkrU',\n",
       "  'snippet': {'title': '【Pythonで自動化？】Seleniumでブラウザを自動で動かしてみよう！'},\n",
       "  'statistics': {'viewCount': '9085'}},\n",
       " {'id': 'nCfAtMooIQQ',\n",
       "  'snippet': {'title': 'その面倒な作業、自動化してみない？【Pythonで自動化のすすめ】'},\n",
       "  'statistics': {'viewCount': '34586'}}]"
      ]
     },
     "execution_count": 72,
     "metadata": {},
     "output_type": "execute_result"
    }
   ],
   "source": [
    "videos_list['items'][:3]"
   ]
  },
  {
   "cell_type": "code",
   "execution_count": 77,
   "id": "widespread-mason",
   "metadata": {},
   "outputs": [],
   "source": [
    "videos_info = []\n",
    "items = videos_list['items']\n",
    "for item in items:\n",
    "    video_info = {}\n",
    "    video_info['video_id'] = item['id']\n",
    "    video_info['title'] = item['snippet']['title']\n",
    "    video_info['view_count'] = item['statistics']['viewCount']\n",
    "    videos_info.append(video_info)\n",
    "\n",
    "df_videos_info = pd.DataFrame(videos_info)"
   ]
  },
  {
   "cell_type": "code",
   "execution_count": 79,
   "id": "dated-monte",
   "metadata": {},
   "outputs": [
    {
     "data": {
      "text/html": [
       "<div>\n",
       "<style scoped>\n",
       "    .dataframe tbody tr th:only-of-type {\n",
       "        vertical-align: middle;\n",
       "    }\n",
       "\n",
       "    .dataframe tbody tr th {\n",
       "        vertical-align: top;\n",
       "    }\n",
       "\n",
       "    .dataframe thead th {\n",
       "        text-align: right;\n",
       "    }\n",
       "</style>\n",
       "<table border=\"1\" class=\"dataframe\">\n",
       "  <thead>\n",
       "    <tr style=\"text-align: right;\">\n",
       "      <th></th>\n",
       "      <th>video_id</th>\n",
       "      <th>title</th>\n",
       "      <th>view_count</th>\n",
       "    </tr>\n",
       "  </thead>\n",
       "  <tbody>\n",
       "    <tr>\n",
       "      <th>0</th>\n",
       "      <td>2MQ3l5rQNKk</td>\n",
       "      <td>【Python入門】Pythonでできること、学習方法についてまとめてみた</td>\n",
       "      <td>90130</td>\n",
       "    </tr>\n",
       "    <tr>\n",
       "      <th>1</th>\n",
       "      <td>0zelr_2KkrU</td>\n",
       "      <td>【Pythonで自動化？】Seleniumでブラウザを自動で動かしてみよう！</td>\n",
       "      <td>9085</td>\n",
       "    </tr>\n",
       "    <tr>\n",
       "      <th>2</th>\n",
       "      <td>nCfAtMooIQQ</td>\n",
       "      <td>その面倒な作業、自動化してみない？【Pythonで自動化のすすめ】</td>\n",
       "      <td>34586</td>\n",
       "    </tr>\n",
       "  </tbody>\n",
       "</table>\n",
       "</div>"
      ],
      "text/plain": [
       "      video_id                                   title view_count\n",
       "0  2MQ3l5rQNKk   【Python入門】Pythonでできること、学習方法についてまとめてみた      90130\n",
       "1  0zelr_2KkrU  【Pythonで自動化？】Seleniumでブラウザを自動で動かしてみよう！       9085\n",
       "2  nCfAtMooIQQ       その面倒な作業、自動化してみない？【Pythonで自動化のすすめ】      34586"
      ]
     },
     "execution_count": 79,
     "metadata": {},
     "output_type": "execute_result"
    }
   ],
   "source": [
    "df_videos_info[:3]"
   ]
  },
  {
   "cell_type": "code",
   "execution_count": 81,
   "id": "different-april",
   "metadata": {},
   "outputs": [
    {
     "data": {
      "text/html": [
       "<div>\n",
       "<style scoped>\n",
       "    .dataframe tbody tr th:only-of-type {\n",
       "        vertical-align: middle;\n",
       "    }\n",
       "\n",
       "    .dataframe tbody tr th {\n",
       "        vertical-align: top;\n",
       "    }\n",
       "\n",
       "    .dataframe thead th {\n",
       "        text-align: right;\n",
       "    }\n",
       "</style>\n",
       "<table border=\"1\" class=\"dataframe\">\n",
       "  <thead>\n",
       "    <tr style=\"text-align: right;\">\n",
       "      <th></th>\n",
       "      <th>video_id</th>\n",
       "      <th>channel_id</th>\n",
       "      <th>subscriber_count</th>\n",
       "      <th>title</th>\n",
       "      <th>view_count</th>\n",
       "    </tr>\n",
       "  </thead>\n",
       "  <tbody>\n",
       "    <tr>\n",
       "      <th>0</th>\n",
       "      <td>2MQ3l5rQNKk</td>\n",
       "      <td>UCaeuEZcPrQMdMvI6VMFHc5Q</td>\n",
       "      <td>4560</td>\n",
       "      <td>【Python入門】Pythonでできること、学習方法についてまとめてみた</td>\n",
       "      <td>90130</td>\n",
       "    </tr>\n",
       "    <tr>\n",
       "      <th>1</th>\n",
       "      <td>0zelr_2KkrU</td>\n",
       "      <td>UCaeuEZcPrQMdMvI6VMFHc5Q</td>\n",
       "      <td>4560</td>\n",
       "      <td>【Pythonで自動化？】Seleniumでブラウザを自動で動かしてみよう！</td>\n",
       "      <td>9085</td>\n",
       "    </tr>\n",
       "    <tr>\n",
       "      <th>2</th>\n",
       "      <td>nCfAtMooIQQ</td>\n",
       "      <td>UCNste53_VRtP6MGUfitOYQA</td>\n",
       "      <td>4210</td>\n",
       "      <td>その面倒な作業、自動化してみない？【Pythonで自動化のすすめ】</td>\n",
       "      <td>34586</td>\n",
       "    </tr>\n",
       "  </tbody>\n",
       "</table>\n",
       "</div>"
      ],
      "text/plain": [
       "      video_id                channel_id  subscriber_count  \\\n",
       "0  2MQ3l5rQNKk  UCaeuEZcPrQMdMvI6VMFHc5Q              4560   \n",
       "1  0zelr_2KkrU  UCaeuEZcPrQMdMvI6VMFHc5Q              4560   \n",
       "2  nCfAtMooIQQ  UCNste53_VRtP6MGUfitOYQA              4210   \n",
       "\n",
       "                                    title view_count  \n",
       "0   【Python入門】Pythonでできること、学習方法についてまとめてみた      90130  \n",
       "1  【Pythonで自動化？】Seleniumでブラウザを自動で動かしてみよう！       9085  \n",
       "2       その面倒な作業、自動化してみない？【Pythonで自動化のすすめ】      34586  "
      ]
     },
     "execution_count": 81,
     "metadata": {},
     "output_type": "execute_result"
    }
   ],
   "source": [
    "results = pd.merge(left=df_extracted, right=df_videos_info, on='video_id')\n",
    "results[:3]"
   ]
  },
  {
   "cell_type": "code",
   "execution_count": 83,
   "id": "noticed-canada",
   "metadata": {},
   "outputs": [],
   "source": [
    "results = results.loc[:,['video_id', 'title', 'view_count', 'subscriber_count', 'channel_id']]"
   ]
  },
  {
   "cell_type": "code",
   "execution_count": 84,
   "id": "hidden-ballot",
   "metadata": {
    "collapsed": true,
    "jupyter": {
     "outputs_hidden": true
    }
   },
   "outputs": [
    {
     "data": {
      "text/html": [
       "<div>\n",
       "<style scoped>\n",
       "    .dataframe tbody tr th:only-of-type {\n",
       "        vertical-align: middle;\n",
       "    }\n",
       "\n",
       "    .dataframe tbody tr th {\n",
       "        vertical-align: top;\n",
       "    }\n",
       "\n",
       "    .dataframe thead th {\n",
       "        text-align: right;\n",
       "    }\n",
       "</style>\n",
       "<table border=\"1\" class=\"dataframe\">\n",
       "  <thead>\n",
       "    <tr style=\"text-align: right;\">\n",
       "      <th></th>\n",
       "      <th>video_id</th>\n",
       "      <th>title</th>\n",
       "      <th>view_count</th>\n",
       "      <th>subscriber_count</th>\n",
       "      <th>channel_id</th>\n",
       "    </tr>\n",
       "  </thead>\n",
       "  <tbody>\n",
       "    <tr>\n",
       "      <th>0</th>\n",
       "      <td>2MQ3l5rQNKk</td>\n",
       "      <td>【Python入門】Pythonでできること、学習方法についてまとめてみた</td>\n",
       "      <td>90130</td>\n",
       "      <td>4560</td>\n",
       "      <td>UCaeuEZcPrQMdMvI6VMFHc5Q</td>\n",
       "    </tr>\n",
       "    <tr>\n",
       "      <th>1</th>\n",
       "      <td>0zelr_2KkrU</td>\n",
       "      <td>【Pythonで自動化？】Seleniumでブラウザを自動で動かしてみよう！</td>\n",
       "      <td>9085</td>\n",
       "      <td>4560</td>\n",
       "      <td>UCaeuEZcPrQMdMvI6VMFHc5Q</td>\n",
       "    </tr>\n",
       "    <tr>\n",
       "      <th>2</th>\n",
       "      <td>nCfAtMooIQQ</td>\n",
       "      <td>その面倒な作業、自動化してみない？【Pythonで自動化のすすめ】</td>\n",
       "      <td>34586</td>\n",
       "      <td>4210</td>\n",
       "      <td>UCNste53_VRtP6MGUfitOYQA</td>\n",
       "    </tr>\n",
       "  </tbody>\n",
       "</table>\n",
       "</div>"
      ],
      "text/plain": [
       "      video_id                                   title view_count  \\\n",
       "0  2MQ3l5rQNKk   【Python入門】Pythonでできること、学習方法についてまとめてみた      90130   \n",
       "1  0zelr_2KkrU  【Pythonで自動化？】Seleniumでブラウザを自動で動かしてみよう！       9085   \n",
       "2  nCfAtMooIQQ       その面倒な作業、自動化してみない？【Pythonで自動化のすすめ】      34586   \n",
       "\n",
       "   subscriber_count                channel_id  \n",
       "0              4560  UCaeuEZcPrQMdMvI6VMFHc5Q  \n",
       "1              4560  UCaeuEZcPrQMdMvI6VMFHc5Q  \n",
       "2              4210  UCNste53_VRtP6MGUfitOYQA  "
      ]
     },
     "execution_count": 84,
     "metadata": {},
     "output_type": "execute_result"
    }
   ],
   "source": [
    "results[:3]"
   ]
  },
  {
   "cell_type": "code",
   "execution_count": 113,
   "id": "radio-insert",
   "metadata": {},
   "outputs": [],
   "source": [
    "def get_results(df_video, threshold=5000):\n",
    "    channel_ids = df_video['channel_id'].unique().tolist()\n",
    "\n",
    "    subscriber_list = youtube.channels().list(\n",
    "        id=','.join(channel_ids),\n",
    "        part='statistics',\n",
    "        fields='items(id,statistics(subscriberCount))'\n",
    "    ).execute()\n",
    "\n",
    "    subscribers = []\n",
    "    for item in subscriber_list['items']:\n",
    "        subscriber = {}\n",
    "        if len(item['statistics']) > 0:\n",
    "            subscriber['channel_id'] = item['id']\n",
    "            subscriber['subscriber_count'] = int(item['statistics']['subscriberCount'])\n",
    "        else:\n",
    "            subscriber['channel_id'] = item['id']            \n",
    "        subscribers.append(subscriber)\n",
    "\n",
    "    df_subscribers = pd.DataFrame(subscribers)\n",
    "\n",
    "    df = pd.merge(left=df_video, right=df_subscribers, on='channel_id')\n",
    "    df_extracted = df[df['subscriber_count'] < threshold]\n",
    "\n",
    "    video_ids = df_extracted['video_id'].tolist()\n",
    "    videos_list = youtube.videos().list(\n",
    "        id=','.join(video_ids),\n",
    "        part='snippet,statistics',\n",
    "        fields='items(id,snippet(title),statistics(viewCount))'\n",
    "    ).execute()\n",
    "\n",
    "    videos_info = []\n",
    "    items = videos_list['items']\n",
    "    for item in items:\n",
    "        video_info = {}\n",
    "        video_info['video_id'] = item['id']\n",
    "        video_info['title'] = item['snippet']['title']\n",
    "        video_info['view_count'] = item['statistics']['viewCount']\n",
    "        videos_info.append(video_info)\n",
    "\n",
    "    df_videos_info = pd.DataFrame(videos_info)\n",
    "\n",
    "    results = pd.merge(left=df_extracted, right=df_videos_info, on='video_id')\n",
    "    results = results.loc[:,['video_id', 'title', 'view_count', 'subscriber_count', 'channel_id']]\n",
    "    return results"
   ]
  },
  {
   "cell_type": "code",
   "execution_count": 116,
   "id": "adequate-greensboro",
   "metadata": {},
   "outputs": [],
   "source": [
    "df_video = video_search(youtube, q='Python Excel', max_results=50)\n",
    "results = get_results(df_video, threshold=1000)"
   ]
  },
  {
   "cell_type": "code",
   "execution_count": 117,
   "id": "sporting-mixture",
   "metadata": {},
   "outputs": [
    {
     "data": {
      "text/html": [
       "<div>\n",
       "<style scoped>\n",
       "    .dataframe tbody tr th:only-of-type {\n",
       "        vertical-align: middle;\n",
       "    }\n",
       "\n",
       "    .dataframe tbody tr th {\n",
       "        vertical-align: top;\n",
       "    }\n",
       "\n",
       "    .dataframe thead th {\n",
       "        text-align: right;\n",
       "    }\n",
       "</style>\n",
       "<table border=\"1\" class=\"dataframe\">\n",
       "  <thead>\n",
       "    <tr style=\"text-align: right;\">\n",
       "      <th></th>\n",
       "      <th>video_id</th>\n",
       "      <th>title</th>\n",
       "      <th>view_count</th>\n",
       "      <th>subscriber_count</th>\n",
       "      <th>channel_id</th>\n",
       "    </tr>\n",
       "  </thead>\n",
       "  <tbody>\n",
       "    <tr>\n",
       "      <th>0</th>\n",
       "      <td>CzuwQwI5zk8</td>\n",
       "      <td>Data Analysis with Python for Excel User Part ...</td>\n",
       "      <td>100523</td>\n",
       "      <td>790</td>\n",
       "      <td>UC-gGhiNMqUTsrE7N9vDrR1Q</td>\n",
       "    </tr>\n",
       "    <tr>\n",
       "      <th>1</th>\n",
       "      <td>C2O3O_GydV4</td>\n",
       "      <td>Use Python and Pandas to Work With Excel</td>\n",
       "      <td>49500</td>\n",
       "      <td>426</td>\n",
       "      <td>UCAOvckbaZM8MEh9R83KH9HA</td>\n",
       "    </tr>\n",
       "    <tr>\n",
       "      <th>2</th>\n",
       "      <td>WlGq6R4U2gE</td>\n",
       "      <td>How to read Excel files with Python: A beginne...</td>\n",
       "      <td>44115</td>\n",
       "      <td>148</td>\n",
       "      <td>UC8AHh9YDeRX0WkfkHTVJPVA</td>\n",
       "    </tr>\n",
       "  </tbody>\n",
       "</table>\n",
       "</div>"
      ],
      "text/plain": [
       "      video_id                                              title view_count  \\\n",
       "0  CzuwQwI5zk8  Data Analysis with Python for Excel User Part ...     100523   \n",
       "1  C2O3O_GydV4           Use Python and Pandas to Work With Excel      49500   \n",
       "2  WlGq6R4U2gE  How to read Excel files with Python: A beginne...      44115   \n",
       "\n",
       "   subscriber_count                channel_id  \n",
       "0               790  UC-gGhiNMqUTsrE7N9vDrR1Q  \n",
       "1               426  UCAOvckbaZM8MEh9R83KH9HA  \n",
       "2               148  UC8AHh9YDeRX0WkfkHTVJPVA  "
      ]
     },
     "execution_count": 117,
     "metadata": {},
     "output_type": "execute_result"
    }
   ],
   "source": [
    "results[:3]"
   ]
  },
  {
   "cell_type": "code",
   "execution_count": 120,
   "id": "reliable-millennium",
   "metadata": {},
   "outputs": [],
   "source": [
    "video_id = ''"
   ]
  },
  {
   "cell_type": "code",
   "execution_count": 121,
   "id": "narrow-attendance",
   "metadata": {},
   "outputs": [
    {
     "data": {
      "text/plain": [
       "0"
      ]
     },
     "execution_count": 121,
     "metadata": {},
     "output_type": "execute_result"
    }
   ],
   "source": [
    "len(video_id)"
   ]
  }
 ],
 "metadata": {
  "kernelspec": {
   "display_name": "Python 3",
   "language": "python",
   "name": "python3"
  },
  "language_info": {
   "codemirror_mode": {
    "name": "ipython",
    "version": 3
   },
   "file_extension": ".py",
   "mimetype": "text/x-python",
   "name": "python",
   "nbconvert_exporter": "python",
   "pygments_lexer": "ipython3",
   "version": "3.9.2"
  }
 },
 "nbformat": 4,
 "nbformat_minor": 5
}
